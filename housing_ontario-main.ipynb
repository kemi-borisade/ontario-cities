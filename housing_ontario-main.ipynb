{
 "cells": [
  {
   "cell_type": "markdown",
   "metadata": {},
   "source": [
    " This project will explore house prices in major cities around ontario"
   ]
  },
  {
   "cell_type": "markdown",
   "metadata": {},
   "source": [
    "- Import packages and read in csvs scraped using Octoparse\n",
    "- Append all dataframes into one dataframe"
   ]
  },
  {
   "cell_type": "code",
   "execution_count": 260,
   "metadata": {},
   "outputs": [],
   "source": [
    "import pandas as pd\n",
    "import numpy as np\n",
    "import matplotlib.pyplot as plt\n",
    "import seaborn as sns\n",
    "import datetime\n",
    "import re\n",
    "from dateutil.relativedelta import relativedelta\n",
    "%matplotlib inline"
   ]
  },
  {
   "cell_type": "code",
   "execution_count": 4,
   "metadata": {},
   "outputs": [],
   "source": [
    "osh = pd.read_csv('Oshawahomes.csv')\n",
    "oak = pd.read_csv('Oakhomes.csv')\n",
    "markh = pd.read_csv('Markhamhomes.csv')\n",
    "whit = pd.read_csv('Whitbyhomes.csv')\n",
    "rich = pd.read_csv('Richmondhomes.csv')\n",
    "newm = pd.read_csv('Newmhomes.csv')\n",
    "ajaxh = pd.read_csv('Ajaxhomes.csv')\n",
    "milt = pd.read_csv('Miltonhomes.csv')\n",
    "vaug = pd.read_csv('Vaughanhomes.csv')\n",
    "brap = pd.read_csv('Bramptonhomes.csv')\n",
    "burl = pd.read_csv('Burlingtonhomes.csv')\n",
    "missi = pd.read_csv('Missihomes.csv')"
   ]
  },
  {
   "cell_type": "code",
   "execution_count": 49,
   "metadata": {},
   "outputs": [
    {
     "data": {
      "text/plain": [
       "(53632, 10)"
      ]
     },
     "execution_count": 49,
     "metadata": {},
     "output_type": "execute_result"
    }
   ],
   "source": [
    "#append the dataframes to form 1 record \n",
    "houses = pd.DataFrame().append([osh,oak, markh,whit,rich,newm,ajaxh,milt,vaug,brap,burl,missi])\n",
    "houses.shape"
   ]
  },
  {
   "cell_type": "code",
   "execution_count": 50,
   "metadata": {},
   "outputs": [
    {
     "data": {
      "text/html": [
       "<div>\n",
       "<style scoped>\n",
       "    .dataframe tbody tr th:only-of-type {\n",
       "        vertical-align: middle;\n",
       "    }\n",
       "\n",
       "    .dataframe tbody tr th {\n",
       "        vertical-align: top;\n",
       "    }\n",
       "\n",
       "    .dataframe thead th {\n",
       "        text-align: right;\n",
       "    }\n",
       "</style>\n",
       "<table border=\"1\" class=\"dataframe\">\n",
       "  <thead>\n",
       "    <tr style=\"text-align: right;\">\n",
       "      <th></th>\n",
       "      <th>Title</th>\n",
       "      <th>Title_URL</th>\n",
       "      <th>Image</th>\n",
       "      <th>Tag</th>\n",
       "      <th>Price</th>\n",
       "      <th>Price1</th>\n",
       "      <th>style_component__qn84q</th>\n",
       "      <th>style_listingdetail__b0bdg</th>\n",
       "      <th>style_listingdetail__b0bdg2</th>\n",
       "      <th>style_listingdetail__b0bdg3</th>\n",
       "    </tr>\n",
       "  </thead>\n",
       "  <tbody>\n",
       "    <tr>\n",
       "      <th>0</th>\n",
       "      <td>362 Newgate Ave</td>\n",
       "      <td>https://www.zoocasa.com/oshawa-on-real-estate/...</td>\n",
       "      <td>https://www.zoocasa.com/_next/image?url=https%...</td>\n",
       "      <td>Sold</td>\n",
       "      <td>$930,000</td>\n",
       "      <td>List Price$950,000</td>\n",
       "      <td>2 days</td>\n",
       "      <td>3 Bed</td>\n",
       "      <td>2 Bath</td>\n",
       "      <td>1500–2000 sqft</td>\n",
       "    </tr>\n",
       "    <tr>\n",
       "      <th>1</th>\n",
       "      <td>1488 Fenelon Cres</td>\n",
       "      <td>https://www.zoocasa.com/oshawa-on-real-estate/...</td>\n",
       "      <td>https://www.zoocasa.com/_next/image?url=https%...</td>\n",
       "      <td>Sold</td>\n",
       "      <td>$730,000</td>\n",
       "      <td>List Price$699,000</td>\n",
       "      <td>3 days</td>\n",
       "      <td>3 Bed</td>\n",
       "      <td>2 Bath</td>\n",
       "      <td>N/A sqft</td>\n",
       "    </tr>\n",
       "    <tr>\n",
       "      <th>2</th>\n",
       "      <td>536 Park Rd S</td>\n",
       "      <td>https://www.zoocasa.com/oshawa-on-real-estate/...</td>\n",
       "      <td>https://www.zoocasa.com/_next/image?url=https%...</td>\n",
       "      <td>Sold</td>\n",
       "      <td>$715,000</td>\n",
       "      <td>List Price$759,300</td>\n",
       "      <td>2 days</td>\n",
       "      <td>3 Bed</td>\n",
       "      <td>3 Bath</td>\n",
       "      <td>N/A sqft</td>\n",
       "    </tr>\n",
       "    <tr>\n",
       "      <th>3</th>\n",
       "      <td>292 Elgin St W</td>\n",
       "      <td>https://www.zoocasa.com/oshawa-on-real-estate/...</td>\n",
       "      <td>https://www.zoocasa.com/_next/image?url=https%...</td>\n",
       "      <td>Sold</td>\n",
       "      <td>$585,880</td>\n",
       "      <td>List Price$599,000</td>\n",
       "      <td>Sold 2 Days Ago</td>\n",
       "      <td>2 Bed</td>\n",
       "      <td>2 Bath</td>\n",
       "      <td>N/A sqft</td>\n",
       "    </tr>\n",
       "    <tr>\n",
       "      <th>4</th>\n",
       "      <td>148 Colborne St E</td>\n",
       "      <td>https://www.zoocasa.com/oshawa-on-real-estate/...</td>\n",
       "      <td>https://www.zoocasa.com/_next/image?url=https%...</td>\n",
       "      <td>Sold</td>\n",
       "      <td>$698,000</td>\n",
       "      <td>List Price$658,000</td>\n",
       "      <td>3 days</td>\n",
       "      <td>3 Bed</td>\n",
       "      <td>1 Bath</td>\n",
       "      <td>N/A sqft</td>\n",
       "    </tr>\n",
       "  </tbody>\n",
       "</table>\n",
       "</div>"
      ],
      "text/plain": [
       "               Title                                          Title_URL  \\\n",
       "0    362 Newgate Ave  https://www.zoocasa.com/oshawa-on-real-estate/...   \n",
       "1  1488 Fenelon Cres  https://www.zoocasa.com/oshawa-on-real-estate/...   \n",
       "2      536 Park Rd S  https://www.zoocasa.com/oshawa-on-real-estate/...   \n",
       "3     292 Elgin St W  https://www.zoocasa.com/oshawa-on-real-estate/...   \n",
       "4  148 Colborne St E  https://www.zoocasa.com/oshawa-on-real-estate/...   \n",
       "\n",
       "                                               Image   Tag     Price  \\\n",
       "0  https://www.zoocasa.com/_next/image?url=https%...  Sold  $930,000   \n",
       "1  https://www.zoocasa.com/_next/image?url=https%...  Sold  $730,000   \n",
       "2  https://www.zoocasa.com/_next/image?url=https%...  Sold  $715,000   \n",
       "3  https://www.zoocasa.com/_next/image?url=https%...  Sold  $585,880   \n",
       "4  https://www.zoocasa.com/_next/image?url=https%...  Sold  $698,000   \n",
       "\n",
       "               Price1 style_component__qn84q style_listingdetail__b0bdg  \\\n",
       "0  List Price$950,000                2 days                       3 Bed   \n",
       "1  List Price$699,000                3 days                       3 Bed   \n",
       "2  List Price$759,300                2 days                       3 Bed   \n",
       "3  List Price$599,000        Sold 2 Days Ago                      2 Bed   \n",
       "4  List Price$658,000                3 days                       3 Bed   \n",
       "\n",
       "  style_listingdetail__b0bdg2 style_listingdetail__b0bdg3  \n",
       "0                      2 Bath              1500–2000 sqft  \n",
       "1                      2 Bath                    N/A sqft  \n",
       "2                      3 Bath                    N/A sqft  \n",
       "3                      2 Bath                    N/A sqft  \n",
       "4                      1 Bath                    N/A sqft  "
      ]
     },
     "execution_count": 50,
     "metadata": {},
     "output_type": "execute_result"
    }
   ],
   "source": [
    "houses.head()"
   ]
  },
  {
   "cell_type": "markdown",
   "metadata": {},
   "source": [
    "Checking the datatype for the columns\n",
    "some columns need to be renamed and cleaned "
   ]
  },
  {
   "cell_type": "code",
   "execution_count": 8,
   "metadata": {},
   "outputs": [
    {
     "name": "stdout",
     "output_type": "stream",
     "text": [
      "<class 'pandas.core.frame.DataFrame'>\n",
      "Int64Index: 53632 entries, 0 to 10268\n",
      "Data columns (total 10 columns):\n",
      " #   Column                       Non-Null Count  Dtype \n",
      "---  ------                       --------------  ----- \n",
      " 0   Title                        53632 non-null  object\n",
      " 1   Title_URL                    53632 non-null  object\n",
      " 2   Image                        53623 non-null  object\n",
      " 3   Tag                          53632 non-null  object\n",
      " 4   Price                        53632 non-null  object\n",
      " 5   Price1                       53632 non-null  object\n",
      " 6   style_component__qn84q       53632 non-null  object\n",
      " 7   style_listingdetail__b0bdg   53632 non-null  object\n",
      " 8   style_listingdetail__b0bdg2  53632 non-null  object\n",
      " 9   style_listingdetail__b0bdg3  53632 non-null  object\n",
      "dtypes: object(10)\n",
      "memory usage: 4.5+ MB\n"
     ]
    }
   ],
   "source": [
    "#check data types for different columns \n",
    "houses.info()"
   ]
  },
  {
   "cell_type": "code",
   "execution_count": 9,
   "metadata": {},
   "outputs": [
    {
     "data": {
      "text/plain": [
       "Index(['Title', 'Title_URL', 'Image', 'Tag', 'Price', 'Price1',\n",
       "       'style_component__qn84q', 'style_listingdetail__b0bdg',\n",
       "       'style_listingdetail__b0bdg2', 'style_listingdetail__b0bdg3'],\n",
       "      dtype='object')"
      ]
     },
     "execution_count": 9,
     "metadata": {},
     "output_type": "execute_result"
    }
   ],
   "source": [
    "houses.columns"
   ]
  },
  {
   "cell_type": "code",
   "execution_count": 106,
   "metadata": {},
   "outputs": [],
   "source": [
    "houses_clean = houses.copy()"
   ]
  },
  {
   "cell_type": "code",
   "execution_count": 107,
   "metadata": {},
   "outputs": [],
   "source": [
    "#keep relevant columns\n",
    "houses_clean = houses_clean[['Title','Title_URL','Price','Price1','style_listingdetail__b0bdg','style_listingdetail__b0bdg2','style_listingdetail__b0bdg3','style_component__qn84q']]"
   ]
  },
  {
   "cell_type": "code",
   "execution_count": 108,
   "metadata": {},
   "outputs": [],
   "source": [
    "#rename columns\n",
    "\n",
    "dict = {'Title':'Street','Title_URL':'Street_URL',\n",
    "        'Price': 'SoldPrice',\n",
    "        'Price1':'ListPrice','style_listingdetail__b0bdg':'Bed',\n",
    "       'style_listingdetail__b0bdg2':'Bath','style_listingdetail__b0bdg3':'Size',\n",
    "       'style_component__qn84q':'SoldTime'}\n",
    "\n",
    "houses_clean.rename(columns=dict,\n",
    "          inplace=True)"
   ]
  },
  {
   "cell_type": "code",
   "execution_count": 109,
   "metadata": {},
   "outputs": [],
   "source": [
    "#reorder columns\n",
    "houses_clean = houses_clean[[ 'ListPrice','SoldPrice','SoldTime','Bed','Bath','Size','Street', 'Street_URL']]"
   ]
  },
  {
   "cell_type": "code",
   "execution_count": 110,
   "metadata": {},
   "outputs": [
    {
     "data": {
      "text/html": [
       "<div>\n",
       "<style scoped>\n",
       "    .dataframe tbody tr th:only-of-type {\n",
       "        vertical-align: middle;\n",
       "    }\n",
       "\n",
       "    .dataframe tbody tr th {\n",
       "        vertical-align: top;\n",
       "    }\n",
       "\n",
       "    .dataframe thead th {\n",
       "        text-align: right;\n",
       "    }\n",
       "</style>\n",
       "<table border=\"1\" class=\"dataframe\">\n",
       "  <thead>\n",
       "    <tr style=\"text-align: right;\">\n",
       "      <th></th>\n",
       "      <th>ListPrice</th>\n",
       "      <th>SoldPrice</th>\n",
       "      <th>SoldTime</th>\n",
       "      <th>Bed</th>\n",
       "      <th>Bath</th>\n",
       "      <th>Size</th>\n",
       "      <th>Street</th>\n",
       "      <th>Street_URL</th>\n",
       "    </tr>\n",
       "  </thead>\n",
       "  <tbody>\n",
       "    <tr>\n",
       "      <th>0</th>\n",
       "      <td>List Price$950,000</td>\n",
       "      <td>$930,000</td>\n",
       "      <td>2 days</td>\n",
       "      <td>3 Bed</td>\n",
       "      <td>2 Bath</td>\n",
       "      <td>1500–2000 sqft</td>\n",
       "      <td>362 Newgate Ave</td>\n",
       "      <td>https://www.zoocasa.com/oshawa-on-real-estate/...</td>\n",
       "    </tr>\n",
       "    <tr>\n",
       "      <th>1</th>\n",
       "      <td>List Price$699,000</td>\n",
       "      <td>$730,000</td>\n",
       "      <td>3 days</td>\n",
       "      <td>3 Bed</td>\n",
       "      <td>2 Bath</td>\n",
       "      <td>N/A sqft</td>\n",
       "      <td>1488 Fenelon Cres</td>\n",
       "      <td>https://www.zoocasa.com/oshawa-on-real-estate/...</td>\n",
       "    </tr>\n",
       "    <tr>\n",
       "      <th>2</th>\n",
       "      <td>List Price$759,300</td>\n",
       "      <td>$715,000</td>\n",
       "      <td>2 days</td>\n",
       "      <td>3 Bed</td>\n",
       "      <td>3 Bath</td>\n",
       "      <td>N/A sqft</td>\n",
       "      <td>536 Park Rd S</td>\n",
       "      <td>https://www.zoocasa.com/oshawa-on-real-estate/...</td>\n",
       "    </tr>\n",
       "    <tr>\n",
       "      <th>3</th>\n",
       "      <td>List Price$599,000</td>\n",
       "      <td>$585,880</td>\n",
       "      <td>Sold 2 Days Ago</td>\n",
       "      <td>2 Bed</td>\n",
       "      <td>2 Bath</td>\n",
       "      <td>N/A sqft</td>\n",
       "      <td>292 Elgin St W</td>\n",
       "      <td>https://www.zoocasa.com/oshawa-on-real-estate/...</td>\n",
       "    </tr>\n",
       "    <tr>\n",
       "      <th>4</th>\n",
       "      <td>List Price$658,000</td>\n",
       "      <td>$698,000</td>\n",
       "      <td>3 days</td>\n",
       "      <td>3 Bed</td>\n",
       "      <td>1 Bath</td>\n",
       "      <td>N/A sqft</td>\n",
       "      <td>148 Colborne St E</td>\n",
       "      <td>https://www.zoocasa.com/oshawa-on-real-estate/...</td>\n",
       "    </tr>\n",
       "  </tbody>\n",
       "</table>\n",
       "</div>"
      ],
      "text/plain": [
       "            ListPrice SoldPrice         SoldTime    Bed    Bath  \\\n",
       "0  List Price$950,000  $930,000          2 days   3 Bed  2 Bath   \n",
       "1  List Price$699,000  $730,000          3 days   3 Bed  2 Bath   \n",
       "2  List Price$759,300  $715,000          2 days   3 Bed  3 Bath   \n",
       "3  List Price$599,000  $585,880  Sold 2 Days Ago  2 Bed  2 Bath   \n",
       "4  List Price$658,000  $698,000          3 days   3 Bed  1 Bath   \n",
       "\n",
       "             Size             Street  \\\n",
       "0  1500–2000 sqft    362 Newgate Ave   \n",
       "1        N/A sqft  1488 Fenelon Cres   \n",
       "2        N/A sqft      536 Park Rd S   \n",
       "3        N/A sqft     292 Elgin St W   \n",
       "4        N/A sqft  148 Colborne St E   \n",
       "\n",
       "                                          Street_URL  \n",
       "0  https://www.zoocasa.com/oshawa-on-real-estate/...  \n",
       "1  https://www.zoocasa.com/oshawa-on-real-estate/...  \n",
       "2  https://www.zoocasa.com/oshawa-on-real-estate/...  \n",
       "3  https://www.zoocasa.com/oshawa-on-real-estate/...  \n",
       "4  https://www.zoocasa.com/oshawa-on-real-estate/...  "
      ]
     },
     "execution_count": 110,
     "metadata": {},
     "output_type": "execute_result"
    }
   ],
   "source": [
    "houses_clean.head()"
   ]
  },
  {
   "cell_type": "code",
   "execution_count": 112,
   "metadata": {},
   "outputs": [],
   "source": [
    "#strip numeric columns of unwanted characters and convert to numeric\n",
    "#will deal with size seperately\n",
    "\n",
    "cols = ['ListPrice','SoldPrice','Bed','Bath']\n",
    "\n",
    "houses_clean[cols]=houses_clean[cols].apply(lambda x: x.str.replace(r'\\D', ''))\n",
    "houses_clean[cols] = houses_clean[cols].apply(pd.to_numeric, errors='coerce')"
   ]
  },
  {
   "cell_type": "code",
   "execution_count": 113,
   "metadata": {},
   "outputs": [
    {
     "name": "stdout",
     "output_type": "stream",
     "text": [
      "<class 'pandas.core.frame.DataFrame'>\n",
      "Int64Index: 53632 entries, 0 to 10268\n",
      "Data columns (total 8 columns):\n",
      " #   Column      Non-Null Count  Dtype \n",
      "---  ------      --------------  ----- \n",
      " 0   ListPrice   53632 non-null  int64 \n",
      " 1   SoldPrice   53632 non-null  int64 \n",
      " 2   SoldTime    53632 non-null  object\n",
      " 3   Bed         53632 non-null  int64 \n",
      " 4   Bath        53632 non-null  int64 \n",
      " 5   Size        53632 non-null  object\n",
      " 6   Street      53632 non-null  object\n",
      " 7   Street_URL  53632 non-null  object\n",
      "dtypes: int64(4), object(4)\n",
      "memory usage: 3.7+ MB\n"
     ]
    }
   ],
   "source": [
    "houses_clean.info()"
   ]
  },
  {
   "cell_type": "markdown",
   "metadata": {},
   "source": [
    "- Size has a range so I'll take the mean of the two numbers to get a size gives an estimate of the size. \n",
    "- I'll fill the NA with the mean of the sizes because that's one way to deal with missing values(another is to remove them but I won't be doing that) "
   ]
  },
  {
   "cell_type": "code",
   "execution_count": 118,
   "metadata": {},
   "outputs": [],
   "source": [
    "#split original size column\n",
    "houses_clean[['A', 'B']] = houses_clean['Size'].str.split('–', 1, expand=True)\n"
   ]
  },
  {
   "cell_type": "code",
   "execution_count": 132,
   "metadata": {},
   "outputs": [],
   "source": [
    "#replace non digits, convert to numeric and then get mean of both numbers\n",
    "sz_cols = ['A','B']\n",
    "\n",
    "houses_clean[sz_cols]=houses_clean[sz_cols].apply(lambda x: x.str.replace(r'\\D', ''))\n",
    "houses_clean[sz_cols] = houses_clean[sz_cols].apply(pd.to_numeric, errors='coerce')\n",
    "houses_clean['sqft'] = houses_clean[['A', 'B']].mean(axis=1)\n",
    "\n",
    "#replace na with mean \n",
    "mean = np.mean(houses_clean['sqft'])\n",
    "houses_clean['sqft']=houses_clean['sqft'].fillna(mean)"
   ]
  },
  {
   "cell_type": "code",
   "execution_count": null,
   "metadata": {},
   "outputs": [],
   "source": [
    "#drop original size column and A, B\n",
    "houses_clean.drop(columns=['Size','A','B'], axis=1, inplace=True)"
   ]
  },
  {
   "cell_type": "markdown",
   "metadata": {},
   "source": [
    "Need to find the cities of the house. This is somewhere in the street url after '.com'"
   ]
  },
  {
   "cell_type": "code",
   "execution_count": 129,
   "metadata": {},
   "outputs": [],
   "source": [
    "#split street url by / and select the last index e.g 'oshawa-on-real-estate'\n",
    "houses_clean['Street_URL']= houses_clean['Street_URL'].apply(lambda x: x.split('/')[3])\n",
    "\n",
    "#replace to get just the city and rename col\n",
    "houses_clean['Street_URL']=houses_clean['Street_URL'].apply(lambda x: x.replace('-on-real-estate',''))\n",
    "houses_clean.rename(columns={'Street_URL': 'City'}, inplace=True)\n"
   ]
  },
  {
   "cell_type": "code",
   "execution_count": 134,
   "metadata": {},
   "outputs": [
    {
     "data": {
      "text/html": [
       "<div>\n",
       "<style scoped>\n",
       "    .dataframe tbody tr th:only-of-type {\n",
       "        vertical-align: middle;\n",
       "    }\n",
       "\n",
       "    .dataframe tbody tr th {\n",
       "        vertical-align: top;\n",
       "    }\n",
       "\n",
       "    .dataframe thead th {\n",
       "        text-align: right;\n",
       "    }\n",
       "</style>\n",
       "<table border=\"1\" class=\"dataframe\">\n",
       "  <thead>\n",
       "    <tr style=\"text-align: right;\">\n",
       "      <th></th>\n",
       "      <th>ListPrice</th>\n",
       "      <th>SoldPrice</th>\n",
       "      <th>SoldTime</th>\n",
       "      <th>Bed</th>\n",
       "      <th>Bath</th>\n",
       "      <th>Street</th>\n",
       "      <th>City</th>\n",
       "      <th>sqft</th>\n",
       "    </tr>\n",
       "  </thead>\n",
       "  <tbody>\n",
       "    <tr>\n",
       "      <th>0</th>\n",
       "      <td>950000</td>\n",
       "      <td>930000</td>\n",
       "      <td>2 days</td>\n",
       "      <td>3</td>\n",
       "      <td>2</td>\n",
       "      <td>362 Newgate Ave</td>\n",
       "      <td>oshawa</td>\n",
       "      <td>1750.000000</td>\n",
       "    </tr>\n",
       "    <tr>\n",
       "      <th>1</th>\n",
       "      <td>699000</td>\n",
       "      <td>730000</td>\n",
       "      <td>3 days</td>\n",
       "      <td>3</td>\n",
       "      <td>2</td>\n",
       "      <td>1488 Fenelon Cres</td>\n",
       "      <td>oshawa</td>\n",
       "      <td>1811.364667</td>\n",
       "    </tr>\n",
       "    <tr>\n",
       "      <th>2</th>\n",
       "      <td>759300</td>\n",
       "      <td>715000</td>\n",
       "      <td>2 days</td>\n",
       "      <td>3</td>\n",
       "      <td>3</td>\n",
       "      <td>536 Park Rd S</td>\n",
       "      <td>oshawa</td>\n",
       "      <td>1811.364667</td>\n",
       "    </tr>\n",
       "    <tr>\n",
       "      <th>3</th>\n",
       "      <td>599000</td>\n",
       "      <td>585880</td>\n",
       "      <td>Sold 2 Days Ago</td>\n",
       "      <td>2</td>\n",
       "      <td>2</td>\n",
       "      <td>292 Elgin St W</td>\n",
       "      <td>oshawa</td>\n",
       "      <td>1811.364667</td>\n",
       "    </tr>\n",
       "    <tr>\n",
       "      <th>4</th>\n",
       "      <td>658000</td>\n",
       "      <td>698000</td>\n",
       "      <td>3 days</td>\n",
       "      <td>3</td>\n",
       "      <td>1</td>\n",
       "      <td>148 Colborne St E</td>\n",
       "      <td>oshawa</td>\n",
       "      <td>1811.364667</td>\n",
       "    </tr>\n",
       "  </tbody>\n",
       "</table>\n",
       "</div>"
      ],
      "text/plain": [
       "   ListPrice  SoldPrice         SoldTime  Bed  Bath             Street  \\\n",
       "0     950000     930000          2 days     3     2    362 Newgate Ave   \n",
       "1     699000     730000          3 days     3     2  1488 Fenelon Cres   \n",
       "2     759300     715000          2 days     3     3      536 Park Rd S   \n",
       "3     599000     585880  Sold 2 Days Ago    2     2     292 Elgin St W   \n",
       "4     658000     698000          3 days     3     1  148 Colborne St E   \n",
       "\n",
       "     City         sqft  \n",
       "0  oshawa  1750.000000  \n",
       "1  oshawa  1811.364667  \n",
       "2  oshawa  1811.364667  \n",
       "3  oshawa  1811.364667  \n",
       "4  oshawa  1811.364667  "
      ]
     },
     "execution_count": 134,
     "metadata": {},
     "output_type": "execute_result"
    }
   ],
   "source": [
    "houses_clean.head()"
   ]
  },
  {
   "cell_type": "markdown",
   "metadata": {},
   "source": [
    "- SoldTime needs to be cleaned \n",
    "- During the scraping, I could not get the actual date the houses were sold, so I will do an estimate using the sold time. I will subtract the soldTime from the date I scraped the data. I only need the year and month. "
   ]
  },
  {
   "cell_type": "code",
   "execution_count": 135,
   "metadata": {},
   "outputs": [
    {
     "data": {
      "text/plain": [
       "11 months           4125\n",
       "2 months            3916\n",
       "10 months           3488\n",
       "7 months            3336\n",
       "6 months            3275\n",
       "                    ... \n",
       "Sold 14 Days Ago      17\n",
       "Sold 15 Days Ago      16\n",
       "Sold 22 Days Ago      15\n",
       "Sold 2 Days Ago        5\n",
       "21 hours               3\n",
       "Name: SoldTime, Length: 85, dtype: int64"
      ]
     },
     "execution_count": 135,
     "metadata": {},
     "output_type": "execute_result"
    }
   ],
   "source": [
    "#I'll check what values are there so I can determine best way to clean it\n",
    "houses_clean['SoldTime'].value_counts()\n"
   ]
  },
  {
   "cell_type": "code",
   "execution_count": 148,
   "metadata": {},
   "outputs": [],
   "source": [
    "#replace ago and sold . so I just have days, months, and year\n",
    "houses_clean['SoldTime']=houses_clean['SoldTime'].str.replace('Sold','')\n",
    "houses_clean['SoldTime']= houses_clean['SoldTime'].str.replace('Ago','')"
   ]
  },
  {
   "cell_type": "code",
   "execution_count": 336,
   "metadata": {},
   "outputs": [],
   "source": [
    "#this lambda function subtracts the days/month/year/hours from the date that the data was scraped (extract_date)\n",
    "extract_date = datetime.date('2022','04','30')\n",
    "houses_clean[\"SoldDate\"] = houses_clean['SoldTime'].apply(lambda x: extract_date - datetime.timedelta(days=int(re.search(r'\\d+',x).group())) \n",
    "                                   if (('days' in x.lower()) or ('Day' in x.lower()) ) \n",
    "                                   else (extract_date - relativedelta(months=int(re.search(r'\\d+',x).group())) \n",
    "                                    if (('months' in x.lower()) or ('month' in x.lower())) \n",
    "                                     else (extract_date - relativedelta(years=int(re.search(r'\\d+',x).group()))\n",
    "                                    if (('years' in x.lower()) or ('year' in x.lower()))    \n",
    "                                    else (extract_date if 'hours' in x.lower() else ' '))))\n",
    "                                       \n"
   ]
  },
  {
   "cell_type": "code",
   "execution_count": 339,
   "metadata": {},
   "outputs": [
    {
     "data": {
      "text/html": [
       "<div>\n",
       "<style scoped>\n",
       "    .dataframe tbody tr th:only-of-type {\n",
       "        vertical-align: middle;\n",
       "    }\n",
       "\n",
       "    .dataframe tbody tr th {\n",
       "        vertical-align: top;\n",
       "    }\n",
       "\n",
       "    .dataframe thead th {\n",
       "        text-align: right;\n",
       "    }\n",
       "</style>\n",
       "<table border=\"1\" class=\"dataframe\">\n",
       "  <thead>\n",
       "    <tr style=\"text-align: right;\">\n",
       "      <th></th>\n",
       "      <th>ListPrice</th>\n",
       "      <th>SoldPrice</th>\n",
       "      <th>SoldTime</th>\n",
       "      <th>Bed</th>\n",
       "      <th>Bath</th>\n",
       "      <th>Street</th>\n",
       "      <th>City</th>\n",
       "      <th>sqft</th>\n",
       "      <th>SoldDate</th>\n",
       "      <th>month_year</th>\n",
       "    </tr>\n",
       "  </thead>\n",
       "  <tbody>\n",
       "    <tr>\n",
       "      <th>0</th>\n",
       "      <td>950000</td>\n",
       "      <td>930000</td>\n",
       "      <td>2 days</td>\n",
       "      <td>3</td>\n",
       "      <td>2</td>\n",
       "      <td>362 Newgate Ave</td>\n",
       "      <td>oshawa</td>\n",
       "      <td>1750.000000</td>\n",
       "      <td>2022-04-28</td>\n",
       "      <td>2022-04</td>\n",
       "    </tr>\n",
       "    <tr>\n",
       "      <th>1</th>\n",
       "      <td>699000</td>\n",
       "      <td>730000</td>\n",
       "      <td>3 days</td>\n",
       "      <td>3</td>\n",
       "      <td>2</td>\n",
       "      <td>1488 Fenelon Cres</td>\n",
       "      <td>oshawa</td>\n",
       "      <td>1811.364667</td>\n",
       "      <td>2022-04-27</td>\n",
       "      <td>2022-04</td>\n",
       "    </tr>\n",
       "    <tr>\n",
       "      <th>2</th>\n",
       "      <td>759300</td>\n",
       "      <td>715000</td>\n",
       "      <td>2 days</td>\n",
       "      <td>3</td>\n",
       "      <td>3</td>\n",
       "      <td>536 Park Rd S</td>\n",
       "      <td>oshawa</td>\n",
       "      <td>1811.364667</td>\n",
       "      <td>2022-04-28</td>\n",
       "      <td>2022-04</td>\n",
       "    </tr>\n",
       "    <tr>\n",
       "      <th>3</th>\n",
       "      <td>599000</td>\n",
       "      <td>585880</td>\n",
       "      <td>2 Days</td>\n",
       "      <td>2</td>\n",
       "      <td>2</td>\n",
       "      <td>292 Elgin St W</td>\n",
       "      <td>oshawa</td>\n",
       "      <td>1811.364667</td>\n",
       "      <td>2022-04-28</td>\n",
       "      <td>2022-04</td>\n",
       "    </tr>\n",
       "    <tr>\n",
       "      <th>4</th>\n",
       "      <td>658000</td>\n",
       "      <td>698000</td>\n",
       "      <td>3 days</td>\n",
       "      <td>3</td>\n",
       "      <td>1</td>\n",
       "      <td>148 Colborne St E</td>\n",
       "      <td>oshawa</td>\n",
       "      <td>1811.364667</td>\n",
       "      <td>2022-04-27</td>\n",
       "      <td>2022-04</td>\n",
       "    </tr>\n",
       "  </tbody>\n",
       "</table>\n",
       "</div>"
      ],
      "text/plain": [
       "   ListPrice  SoldPrice  SoldTime  Bed  Bath             Street    City  \\\n",
       "0     950000     930000   2 days     3     2    362 Newgate Ave  oshawa   \n",
       "1     699000     730000   3 days     3     2  1488 Fenelon Cres  oshawa   \n",
       "2     759300     715000   2 days     3     3      536 Park Rd S  oshawa   \n",
       "3     599000     585880   2 Days     2     2     292 Elgin St W  oshawa   \n",
       "4     658000     698000   3 days     3     1  148 Colborne St E  oshawa   \n",
       "\n",
       "          sqft   SoldDate month_year  \n",
       "0  1750.000000 2022-04-28    2022-04  \n",
       "1  1811.364667 2022-04-27    2022-04  \n",
       "2  1811.364667 2022-04-28    2022-04  \n",
       "3  1811.364667 2022-04-28    2022-04  \n",
       "4  1811.364667 2022-04-27    2022-04  "
      ]
     },
     "execution_count": 339,
     "metadata": {},
     "output_type": "execute_result"
    }
   ],
   "source": [
    "#extract the month and year from the solddate\n",
    "houses_clean['SoldDate'] = pd.to_datetime(houses_clean['SoldDate'])\n",
    "houses_clean['month_year'] = houses_clean['SoldDate'].dt.to_period('M')\n",
    "houses_clean.head()"
   ]
  },
  {
   "cell_type": "markdown",
   "metadata": {},
   "source": [
    "# Lets Explore"
   ]
  },
  {
   "cell_type": "code",
   "execution_count": 341,
   "metadata": {},
   "outputs": [
    {
     "data": {
      "text/html": [
       "<div>\n",
       "<style scoped>\n",
       "    .dataframe tbody tr th:only-of-type {\n",
       "        vertical-align: middle;\n",
       "    }\n",
       "\n",
       "    .dataframe tbody tr th {\n",
       "        vertical-align: top;\n",
       "    }\n",
       "\n",
       "    .dataframe thead th {\n",
       "        text-align: right;\n",
       "    }\n",
       "</style>\n",
       "<table border=\"1\" class=\"dataframe\">\n",
       "  <thead>\n",
       "    <tr style=\"text-align: right;\">\n",
       "      <th></th>\n",
       "      <th>ListPrice</th>\n",
       "      <th>SoldPrice</th>\n",
       "      <th>Bed</th>\n",
       "      <th>Bath</th>\n",
       "      <th>sqft</th>\n",
       "    </tr>\n",
       "  </thead>\n",
       "  <tbody>\n",
       "    <tr>\n",
       "      <th>count</th>\n",
       "      <td>5.363200e+04</td>\n",
       "      <td>5.363200e+04</td>\n",
       "      <td>53632.000000</td>\n",
       "      <td>53632.000000</td>\n",
       "      <td>53632.000000</td>\n",
       "    </tr>\n",
       "    <tr>\n",
       "      <th>mean</th>\n",
       "      <td>1.092863e+06</td>\n",
       "      <td>1.188893e+06</td>\n",
       "      <td>3.080996</td>\n",
       "      <td>3.024724</td>\n",
       "      <td>1811.364667</td>\n",
       "    </tr>\n",
       "    <tr>\n",
       "      <th>std</th>\n",
       "      <td>6.302489e+05</td>\n",
       "      <td>6.207244e+05</td>\n",
       "      <td>0.961648</td>\n",
       "      <td>1.212248</td>\n",
       "      <td>756.835906</td>\n",
       "    </tr>\n",
       "    <tr>\n",
       "      <th>min</th>\n",
       "      <td>1.000000e+00</td>\n",
       "      <td>2.000000e+05</td>\n",
       "      <td>0.000000</td>\n",
       "      <td>1.000000</td>\n",
       "      <td>499.000000</td>\n",
       "    </tr>\n",
       "    <tr>\n",
       "      <th>25%</th>\n",
       "      <td>6.999990e+05</td>\n",
       "      <td>7.950000e+05</td>\n",
       "      <td>3.000000</td>\n",
       "      <td>2.000000</td>\n",
       "      <td>1300.000000</td>\n",
       "    </tr>\n",
       "    <tr>\n",
       "      <th>50%</th>\n",
       "      <td>9.499000e+05</td>\n",
       "      <td>1.060000e+06</td>\n",
       "      <td>3.000000</td>\n",
       "      <td>3.000000</td>\n",
       "      <td>1811.364667</td>\n",
       "    </tr>\n",
       "    <tr>\n",
       "      <th>75%</th>\n",
       "      <td>1.299000e+06</td>\n",
       "      <td>1.420000e+06</td>\n",
       "      <td>4.000000</td>\n",
       "      <td>4.000000</td>\n",
       "      <td>1811.364667</td>\n",
       "    </tr>\n",
       "    <tr>\n",
       "      <th>max</th>\n",
       "      <td>2.188800e+07</td>\n",
       "      <td>1.976000e+07</td>\n",
       "      <td>9.000000</td>\n",
       "      <td>16.000000</td>\n",
       "      <td>5000.000000</td>\n",
       "    </tr>\n",
       "  </tbody>\n",
       "</table>\n",
       "</div>"
      ],
      "text/plain": [
       "          ListPrice     SoldPrice           Bed          Bath          sqft\n",
       "count  5.363200e+04  5.363200e+04  53632.000000  53632.000000  53632.000000\n",
       "mean   1.092863e+06  1.188893e+06      3.080996      3.024724   1811.364667\n",
       "std    6.302489e+05  6.207244e+05      0.961648      1.212248    756.835906\n",
       "min    1.000000e+00  2.000000e+05      0.000000      1.000000    499.000000\n",
       "25%    6.999990e+05  7.950000e+05      3.000000      2.000000   1300.000000\n",
       "50%    9.499000e+05  1.060000e+06      3.000000      3.000000   1811.364667\n",
       "75%    1.299000e+06  1.420000e+06      4.000000      4.000000   1811.364667\n",
       "max    2.188800e+07  1.976000e+07      9.000000     16.000000   5000.000000"
      ]
     },
     "execution_count": 341,
     "metadata": {},
     "output_type": "execute_result"
    }
   ],
   "source": [
    "houses_clean.describe()"
   ]
  },
  {
   "cell_type": "markdown",
   "metadata": {},
   "source": [
    "-  Looking at the data above, we can see a max Bath number of 16, and since I am not a millionaire(yet)for the purpose of this project(my house hunting journey) I would be limiting the dataset to properties with 2 -4 Bedrooms\n",
    "- This falls within my budget(I hope) as well as its what's affordable for a lot of people given the craziness of the house market \n",
    "- It would also help in getting rid of outliers that could skew the mean which would help with predictions\n",
    "- Before we limit the dataset lets see what the distribution of the soldPrice variable looks like"
   ]
  },
  {
   "cell_type": "code",
   "execution_count": 342,
   "metadata": {},
   "outputs": [
    {
     "data": {
      "text/plain": [
       "<seaborn.axisgrid.FacetGrid at 0x13c05d8d0>"
      ]
     },
     "execution_count": 342,
     "metadata": {},
     "output_type": "execute_result"
    },
    {
     "data": {
      "image/png": "[encoded data removed]",
      "text/plain": [
       "<Figure size 360x360 with 1 Axes>"
      ]
     },
     "metadata": {
      "needs_background": "light"
     },
     "output_type": "display_data"
    }
   ],
   "source": [
    "sns.displot( x=\"SoldPrice\", data = houses_clean)"
   ]
  },
  {
   "cell_type": "markdown",
   "metadata": {},
   "source": [
    "Rightly skewed with some outliers to the right, lets see this with a box and whisker plot"
   ]
  },
  {
   "cell_type": "code",
   "execution_count": 344,
   "metadata": {},
   "outputs": [
    {
     "data": {
      "image/png": "[encoded data removed]",
      "text/plain": [
       "<Figure size 432x288 with 1 Axes>"
      ]
     },
     "metadata": {
      "needs_background": "light"
     },
     "output_type": "display_data"
    }
   ],
   "source": [
    "sns.boxplot(x=houses_clean[\"SoldPrice\"])\n",
    "plt.show()"
   ]
  },
  {
   "cell_type": "markdown",
   "metadata": {},
   "source": [
    "Lets remove those high number bedrooms to see if we can get a better distribution"
   ]
  },
  {
   "cell_type": "code",
   "execution_count": null,
   "metadata": {},
   "outputs": [],
   "source": []
  }
 ],
 "metadata": {
  "kernelspec": {
   "display_name": "Python 3",
   "language": "python",
   "name": "python3"
  },
  "language_info": {
   "codemirror_mode": {
    "name": "ipython",
    "version": 3
   },
   "file_extension": ".py",
   "mimetype": "text/x-python",
   "name": "python",
   "nbconvert_exporter": "python",
   "pygments_lexer": "ipython3",
   "version": "3.7.1"
  }
 },
 "nbformat": 4,
 "nbformat_minor": 2
}
